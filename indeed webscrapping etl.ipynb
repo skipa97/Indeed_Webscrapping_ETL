{
 "cells": [
  {
   "cell_type": "code",
   "execution_count": 4,
   "metadata": {},
   "outputs": [],
   "source": [
    "import requests\n",
    "from bs4 import BeautifulSoup\n",
    "import pandas as pd"
   ]
  },
  {
   "cell_type": "markdown",
   "metadata": {},
   "source": [
    "Extracting data from the indeed website"
   ]
  },
  {
   "cell_type": "code",
   "execution_count": 39,
   "metadata": {},
   "outputs": [],
   "source": [
    "def extract(page):\n",
    "    headers = 'Mozilla/5.0 (Windows NT 10.0; Win64; x64) AppleWebKit/537.36 (KHTML, like Gecko) Chrome/100.0.4896.127 Safari/537.36'\n",
    "    url = f'https://za.indeed.com/jobs?q=data%20scientist&l=gauteng&start={page}'\n",
    "    r = requests.get(url, headers)\n",
    "    soup = BeautifulSoup(r.content, 'html.parser')\n",
    "    #stats = r.status_code\n",
    "    return soup\n",
    "\n",
    "\n"
   ]
  },
  {
   "cell_type": "markdown",
   "metadata": {},
   "source": [
    "Extracting the data we need we need from the website"
   ]
  },
  {
   "cell_type": "code",
   "execution_count": 40,
   "metadata": {},
   "outputs": [
    {
     "name": "stdout",
     "output_type": "stream",
     "text": [
      "0\n"
     ]
    }
   ],
   "source": [
    "joblist = []\n",
    "def transform(soup):\n",
    "    divs = soup.find_all(f'div', class_ = 'jobsearch-SerpJobCard')\n",
    "    for item in divs:\n",
    "        title = item.find('a').text.strip()\n",
    "        company = item.find('span', class_ = 'company').text.strip()\n",
    "        \n",
    "        #we want to find the salary as well, but because some job do not have the salary we use the try method to cater for those with no salary\n",
    "        try:            \n",
    "            salary = item.find('span', class_ = 'salaryText').text.strip()\n",
    "        except:\n",
    "            salary = ''\n",
    "        summary = item.find('div', class_ = 'summary').text.strip()\n",
    "        \n",
    "        #we put our data into a dictionary as a collection\n",
    "        \n",
    "        job = {\n",
    "               'title' : title,\n",
    "               'company' : company,\n",
    "               'salary' : salary,\n",
    "               'summary' : summary\n",
    "              }\n",
    "        joblist.append(job)\n",
    "    return \n",
    "\n",
    "\n",
    "c = extract(0)\n",
    "transform(c)\n",
    "print(len(joblist))"
   ]
  },
  {
   "cell_type": "markdown",
   "metadata": {},
   "source": [
    "we are using a loop to load data from the website, we are loading data from page 0 to 40 using a step of 10"
   ]
  },
  {
   "cell_type": "code",
   "execution_count": 41,
   "metadata": {},
   "outputs": [
    {
     "name": "stdout",
     "output_type": "stream",
     "text": [
      "Getting page, 0\n",
      "Getting page, 10\n",
      "Getting page, 20\n",
      "Getting page, 30\n"
     ]
    }
   ],
   "source": [
    "for i in range(0, 40, 10):\n",
    "    print(f'Getting page, {i}')\n",
    "          \n",
    "    c = extract(0)\n",
    "    transform(c)"
   ]
  },
  {
   "cell_type": "markdown",
   "metadata": {},
   "source": [
    "Loading our data to a dataframe to have a view in a tabular format "
   ]
  },
  {
   "cell_type": "code",
   "execution_count": 42,
   "metadata": {},
   "outputs": [],
   "source": [
    "df_jobs = pd.DataFrame(joblist)"
   ]
  },
  {
   "cell_type": "markdown",
   "metadata": {},
   "source": [
    "saving our results to csv"
   ]
  },
  {
   "cell_type": "code",
   "execution_count": null,
   "metadata": {},
   "outputs": [],
   "source": [
    "df_jobs.to_csv('indeed data science jobs.csv')"
   ]
  }
 ],
 "metadata": {
  "kernelspec": {
   "display_name": "Python 3",
   "language": "python",
   "name": "python3"
  },
  "language_info": {
   "codemirror_mode": {
    "name": "ipython",
    "version": 3
   },
   "file_extension": ".py",
   "mimetype": "text/x-python",
   "name": "python",
   "nbconvert_exporter": "python",
   "pygments_lexer": "ipython3",
   "version": "3.7.6"
  }
 },
 "nbformat": 4,
 "nbformat_minor": 4
}
